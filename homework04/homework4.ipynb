{
 "cells": [
  {
   "cell_type": "markdown",
   "metadata": {
    "collapsed": true
   },
   "source": [
    "1. I think that deep neural networks will definitely be used and useful well into the future, but I also don't think that they will live up to the hype about them. I don't think we will get to the point of an AI singularity or any such thing anytime soon, even though deep networks were supposedly going to get us there in the near future. (See the buzz about books like this: https://en.wikipedia.org/wiki/The_Singularity_Is_Near)\n",
    "They are obviously very potent tools for analyzing data of varying kinds, but the don't appear capable of much more than that. Sure, they can almost effortlessly model and appear to \"understand\" things that were previously too complicated and involved to model, they thrive off of having access to unimaginably large quantities of data (rather than such amounts of data paralyzing them, as has happened with prior, brittle models), but they can't independently interpret their own results, and will never be able to. Interpretation is a human activity, and any interpretation apparently done by a program was set up and structured and pre-determined by a human being.\n",
    "I guess the answer to your question is that they really are a breakthrough at a certain level, but not at the level that we want them to be (or are afraid they are). They will be used far into the future (although of course them and their usage will grow and change during that time as well) unlike expert systems, but like expert systems, many will be ultimately disappointed by their capabilities. At the end of the day I believe that no neural network, however complicated, will bear more than a cursory resemblance to a human brain, simply because human brains do not run on silicon."
   ]
  },
  {
   "cell_type": "markdown",
   "metadata": {},
   "source": [
    "See picture in this folder for part 2 of the homework"
   ]
  },
  {
   "cell_type": "code",
   "execution_count": 8,
   "metadata": {},
   "outputs": [
    {
     "name": "stdout",
     "output_type": "stream",
     "text": [
      "Downloading data from http://fashion-mnist.s3-website.eu-central-1.amazonaws.com/train-labels-idx1-ubyte.gz\n",
      "32768/29515 [=================================] - 0s 3us/step\n",
      "Downloading data from http://fashion-mnist.s3-website.eu-central-1.amazonaws.com/train-images-idx3-ubyte.gz\n",
      "26427392/26421880 [==============================] - 4s 0us/step\n",
      "Downloading data from http://fashion-mnist.s3-website.eu-central-1.amazonaws.com/t10k-labels-idx1-ubyte.gz\n",
      "8192/5148 [===============================================] - 0s 0us/step\n",
      "Downloading data from http://fashion-mnist.s3-website.eu-central-1.amazonaws.com/t10k-images-idx3-ubyte.gz\n",
      "4423680/4422102 [==============================] - 4s 1us/step\n"
     ]
    }
   ],
   "source": [
    "from keras.datasets import fashion_mnist\n",
    "(train_images, train_labels), (test_images, test_labels) = fashion_mnist.load_data()"
   ]
  },
  {
   "cell_type": "code",
   "execution_count": 9,
   "metadata": {},
   "outputs": [
    {
     "data": {
      "text/plain": [
       "<matplotlib.image.AxesImage at 0x7f4f53230eb8>"
      ]
     },
     "execution_count": 9,
     "metadata": {},
     "output_type": "execute_result"
    },
    {
     "data": {
      "image/png": "[encoded data removed]",
      "text/plain": [
       "<Figure size 432x288 with 1 Axes>"
      ]
     },
     "metadata": {
      "needs_background": "light"
     },
     "output_type": "display_data"
    }
   ],
   "source": [
    "import matplotlib.pyplot as plt\n",
    "%matplotlib inline\n",
    "\n",
    "digit_image = train_images[0]\n",
    "plt.imshow(digit_image, cmap=plt.cm.binary)"
   ]
  },
  {
   "cell_type": "code",
   "execution_count": 10,
   "metadata": {},
   "outputs": [],
   "source": [
    "from keras.utils import to_categorical\n",
    "\n",
    "train_images = train_images.reshape((60000, 28*28))\n",
    "train_images = train_images.astype('float32') / 255\n",
    "\n",
    "test_images = test_images.reshape((10000, 28*28))\n",
    "test_images = test_images.astype('float32') /255\n",
    "\n",
    "train_labels = to_categorical(train_labels)\n",
    "test_labels = to_categorical(test_labels)"
   ]
  },
  {
   "cell_type": "code",
   "execution_count": 43,
   "metadata": {},
   "outputs": [],
   "source": [
    "from keras import models\n",
    "from keras import layers\n",
    "\n",
    "network = models.Sequential()\n",
    "network.add(layers.Dense(256, activation='relu', input_shape=(28*28,)))\n",
    "network.add(layers.Dense(32, activation='relu', input_shape=(16*16,)))\n",
    "network.add(layers.Dense(10, activation='softmax'))\n",
    "network.compile(optimizer='rmsprop', loss='categorical_crossentropy', metrics=['accuracy'])"
   ]
  },
  {
   "cell_type": "code",
   "execution_count": 55,
   "metadata": {},
   "outputs": [
    {
     "name": "stdout",
     "output_type": "stream",
     "text": [
      "Epoch 1/30\n",
      "60000/60000 [==============================] - 1s 9us/step - loss: 0.0271 - acc: 0.9913\n",
      "Epoch 2/30\n",
      "60000/60000 [==============================] - 1s 9us/step - loss: 0.0256 - acc: 0.9915\n",
      "Epoch 3/30\n",
      "60000/60000 [==============================] - 1s 9us/step - loss: 0.0260 - acc: 0.9915\n",
      "Epoch 4/30\n",
      "60000/60000 [==============================] - 1s 9us/step - loss: 0.0248 - acc: 0.9913\n",
      "Epoch 5/30\n",
      "60000/60000 [==============================] - 1s 10us/step - loss: 0.0250 - acc: 0.9915\n",
      "Epoch 6/30\n",
      "60000/60000 [==============================] - 1s 9us/step - loss: 0.0288 - acc: 0.9909\n",
      "Epoch 7/30\n",
      "60000/60000 [==============================] - 1s 9us/step - loss: 0.0261 - acc: 0.9913\n",
      "Epoch 8/30\n",
      "60000/60000 [==============================] - 1s 9us/step - loss: 0.0260 - acc: 0.9914\n",
      "Epoch 9/30\n",
      "60000/60000 [==============================] - 1s 9us/step - loss: 0.0236 - acc: 0.9922\n",
      "Epoch 10/30\n",
      "60000/60000 [==============================] - 1s 9us/step - loss: 0.0285 - acc: 0.9909\n",
      "Epoch 11/30\n",
      "60000/60000 [==============================] - 1s 10us/step - loss: 0.0253 - acc: 0.9918\n",
      "Epoch 12/30\n",
      "60000/60000 [==============================] - 1s 9us/step - loss: 0.0243 - acc: 0.9916\n",
      "Epoch 13/30\n",
      "60000/60000 [==============================] - 1s 9us/step - loss: 0.0234 - acc: 0.9926\n",
      "Epoch 14/30\n",
      "60000/60000 [==============================] - 1s 9us/step - loss: 0.0268 - acc: 0.9915\n",
      "Epoch 15/30\n",
      "60000/60000 [==============================] - 1s 9us/step - loss: 0.0230 - acc: 0.9922\n",
      "Epoch 16/30\n",
      "60000/60000 [==============================] - 1s 9us/step - loss: 0.0242 - acc: 0.9922\n",
      "Epoch 17/30\n",
      "60000/60000 [==============================] - 1s 9us/step - loss: 0.0250 - acc: 0.9923\n",
      "Epoch 18/30\n",
      "60000/60000 [==============================] - 1s 9us/step - loss: 0.0247 - acc: 0.9919\n",
      "Epoch 19/30\n",
      "60000/60000 [==============================] - 1s 11us/step - loss: 0.0226 - acc: 0.9929\n",
      "Epoch 20/30\n",
      "60000/60000 [==============================] - 1s 9us/step - loss: 0.0251 - acc: 0.9923\n",
      "Epoch 21/30\n",
      "60000/60000 [==============================] - 1s 9us/step - loss: 0.0218 - acc: 0.9933\n",
      "Epoch 22/30\n",
      "60000/60000 [==============================] - 1s 9us/step - loss: 0.0259 - acc: 0.9918\n",
      "Epoch 23/30\n",
      "60000/60000 [==============================] - 1s 10us/step - loss: 0.0222 - acc: 0.9929\n",
      "Epoch 24/30\n",
      "60000/60000 [==============================] - 1s 9us/step - loss: 0.0229 - acc: 0.9923\n",
      "Epoch 25/30\n",
      "60000/60000 [==============================] - 1s 10us/step - loss: 0.0225 - acc: 0.9927\n",
      "Epoch 26/30\n",
      "60000/60000 [==============================] - 1s 9us/step - loss: 0.0248 - acc: 0.9926\n",
      "Epoch 27/30\n",
      "60000/60000 [==============================] - 1s 9us/step - loss: 0.0237 - acc: 0.9930\n",
      "Epoch 28/30\n",
      "60000/60000 [==============================] - 1s 9us/step - loss: 0.0223 - acc: 0.9926\n",
      "Epoch 29/30\n",
      "60000/60000 [==============================] - 1s 9us/step - loss: 0.0222 - acc: 0.9932\n",
      "Epoch 30/30\n",
      "60000/60000 [==============================] - 1s 9us/step - loss: 0.0231 - acc: 0.9924\n"
     ]
    },
    {
     "data": {
      "text/plain": [
       "<keras.callbacks.History at 0x7f4f301ac6a0>"
      ]
     },
     "execution_count": 55,
     "metadata": {},
     "output_type": "execute_result"
    }
   ],
   "source": [
    "network.fit(train_images, train_labels, epochs=30, batch_size=512)"
   ]
  },
  {
   "cell_type": "code",
   "execution_count": 56,
   "metadata": {},
   "outputs": [
    {
     "name": "stdout",
     "output_type": "stream",
     "text": [
      "10000/10000 [==============================] - 0s 13us/step\n",
      "test_acc: 0.8904\n"
     ]
    }
   ],
   "source": [
    "test_loss, test_acc = network.evaluate(test_images, test_labels)\n",
    "print('test_acc:', test_acc)"
   ]
  },
  {
   "cell_type": "markdown",
   "metadata": {},
   "source": [
    "NOTE: While this is my most performant network, at just under 90% accuracy, I am almost certainly overfitting, especially since I didn't do anything like data augmentation and such."
   ]
  }
 ],
 "metadata": {
  "kernelspec": {
   "display_name": "Python 3",
   "language": "python",
   "name": "python3"
  },
  "language_info": {
   "codemirror_mode": {
    "name": "ipython",
    "version": 3
   },
   "file_extension": ".py",
   "mimetype": "text/x-python",
   "name": "python",
   "nbconvert_exporter": "python",
   "pygments_lexer": "ipython3",
   "version": "3.5.2"
  }
 },
 "nbformat": 4,
 "nbformat_minor": 1
}
