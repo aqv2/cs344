{
 "cells": [
  {
   "cell_type": "markdown",
   "metadata": {},
   "source": [
    "#1: Introspection"
   ]
  },
  {
   "cell_type": "markdown",
   "metadata": {},
   "source": [
    "1: Introspection would not be particularly helpful when it comes to informing AI how to model human cognitive processes. This is because the only reason introspection is necessary is to inform ourselves of our processes. We are often unaware of our own patterns and habits of thinking, and introspection is an attempt to get at those patterns and habits and to become self-aware in that area. In contrast to humans, an AI is just it's pattern and habit; there is nothing for it to not be \"self-aware\" of in the first place. There is no hiding an AI from itself, but human beings engage in self-deception all the time."
   ]
  },
  {
   "cell_type": "markdown",
   "metadata": {},
   "source": [
    "#2: Formulation and Solutions"
   ]
  },
  {
   "cell_type": "code",
   "execution_count": null,
   "metadata": {},
   "outputs": [],
   "source": [
    "from search import Problem, hill_climbing, simulated_annealing, \\\n",
    "    exp_schedule\n",
    "from itertools import permutations\n",
    "\n",
    "# Traveling Salesman Problem:\n",
    "class TSP(Problem):\n",
    "    \"\"\"\n",
    "    State: Being a path between all of the cities\n",
    "    Action: Randomizing the order of cities in a state\n",
    "    \"\"\"\n",
    "    def __init__(self, initial, costDict):\n",
    "        self.initial = initial\n",
    "        self.costDict = costDict\n",
    "        \n",
    "    def actions(self, state):\n",
    "        return list(permutations(state))\n",
    "        \n",
    "    def result(self, state, action):\n",
    "        return action\n",
    "        \n",
    "    def value(self, state):\n",
    "        stateValue = 0\n",
    "        for item in range(len(state) - 1):\n",
    "            nextItem = state[item + 1]\n",
    "            stateValue += self.costDict[state[item]][state[item+1]]\n",
    "        return (-1 * stateValue)"
   ]
  },
  {
   "cell_type": "code",
   "execution_count": null,
   "metadata": {},
   "outputs": [
    {
     "name": "stdout",
     "output_type": "stream",
     "text": [
      "Initial arrangement: ['c', 'b', 'd', 'a']\t\tcost of path: -99\n",
      "Hill-climbing solution: ('d', 'c', 'b', 'a')\tcost of path: -62\n",
      "Simulated annealing solution: ('b', 'a', 'd', 'c')\tcost of path: -67\n",
      "Initial arrangement 2: ['a', 'b', 'c', 'd', 'e', 'f', 'g']\t\tcost of path: -264\n",
      "Hill-climbing solution 2: ('f', 'c', 'd', 'b', 'a', 'g', 'e')\tcost of path: -105\n"
     ]
    }
   ],
   "source": [
    "initial1 = [\"c\", \"b\", \"d\", \"a\"]\n",
    "costDict1 = dict(a=dict(b=20, c=42, d=35), \n",
    "                b=dict(a=20, c=30, d=34),\n",
    "                c=dict(a=42, b=30, d=12),\n",
    "                d=dict(a=35, b=34, c=12))\n",
    "\n",
    "prob1 = TSP(initial1, costDict1)\n",
    "\n",
    "print('Initial arrangement: ' + str(prob1.initial) \n",
    "      + '\\t\\tcost of path: ' + str(prob1.value(prob1.initial)))\n",
    "\n",
    "#Hill Climbing\n",
    "hill_solution = hill_climbing(prob1)\n",
    "print('Hill-climbing solution: ' + str(hill_solution)\n",
    "      + '\\tcost of path: ' + str(prob1.value(hill_solution)))\n",
    "\n",
    "\n",
    "#Simulated Annealing\n",
    "annealing_solution = simulated_annealing(prob1)\n",
    "print('Simulated annealing solution: ' + str(annealing_solution)\n",
    "      + '\\tcost of path: ' + str(prob1.value(annealing_solution)))\n",
    "\n",
    "\n",
    "# The more complicated setup with 10 cities\n",
    "initial2 = ['a', 'b', 'c', 'd', 'e', 'f', 'g']\n",
    "costDict2 = dict(a=dict(b=20, c=42, d=35, e=67, f=94, g=12), \n",
    "                 b=dict(a=20, c=30, d=34, e=56, f=78, g=32),\n",
    "                 c=dict(a=42, b=30, d=12, e=46, f=15, g=15),\n",
    "                 d=dict(a=35, b=34, c=12, e=64, f=23, g=87),\n",
    "                 e=dict(a=67, b=56, c=46, d=64, f=87, g=12),\n",
    "                 f=dict(a=94, b=78, c=15, d=23, e=87, g=51),\n",
    "                 g=dict(a=12, b=32, c=15, d=87, e=12, f=51))\n",
    "\n",
    "prob2 = TSP(initial2, costDict2)\n",
    "\n",
    "print('Initial arrangement 2: ' + str(prob2.initial)\n",
    "      + '\\t\\tcost of path: ' + str(prob2.value(prob2.initial)))\n",
    "\n",
    "#Hill Climbing\n",
    "hill_solution = hill_climbing(prob2)\n",
    "print('Hill-climbing solution 2: ' + str(hill_solution)\n",
    "      + '\\tcost of path: ' + str(prob2.value(hill_solution)))\n",
    "\n",
    "\n",
    "#Simulated Annealing\n",
    "annealing_solution = simulated_annealing(prob2,\n",
    "                                         exp_schedule(k=20, lam=0.005, limit=1000))\n",
    "print('Simulated annealing solution 2: ' + str(annealing_solution)\n",
    "      + '\\tcost of path: ' + str(prob2.value(annealing_solution)))"
   ]
  },
  {
   "cell_type": "markdown",
   "metadata": {},
   "source": [
    "Hill-climbing was definitely faster on the larger dataset, and more consistently got the shortest path on both datasets, so overall it seemed like the best option. Even with the simulated annealing optimizations, it was significantly slower. Hill-climbing definitely seems like the algorithm of choice, here."
   ]
  },
  {
   "cell_type": "markdown",
   "metadata": {},
   "source": [
    "#3 Formulation and Implementation"
   ]
  },
  {
   "cell_type": "code",
   "execution_count": null,
   "metadata": {},
   "outputs": [],
   "source": [
    "from csp import min_conflicts, parse_neighbors, CSP\n",
    "\n",
    "'''\n",
    "variables:\n",
    "    courses: cs108, cs112, cs243, cs0.001, cs10000, and cs666\n",
    "    faculty: schuurman, adams, vanderlinden, plantinga\n",
    "    course assignments:\n",
    "        schuurman: cs108, cs112\n",
    "        adams: cs666\n",
    "        vanderlinden: cs243, cs0.001\n",
    "        plantinga: cs10000\n",
    "    time slots: mwf9, mwf11, tth6, tth12\n",
    "    classrooms: nh253, sc210\n",
    "domains: everything is sort-of adjacent to everything else in this problem\n",
    "'''\n",
    "courses = \"cs108 cs112 cs243 cs0.001 cs10000 cs666\".split()\n",
    "timeSlots = \"mwf9 mwf11 tth6 tth12\".split()\n",
    "classrooms = \"nh253 sc210\".split()\n",
    "courseAssignments = \"schuurman,cs108 schuurman \" \\\n",
    "                    \"adams,cs666 vanderlinden \" \\\n",
    "                    \"vanderlinden plantinga\".split()\n",
    "variables = courses\n",
    "domain_possibilities = []\n",
    "for classroom in classrooms:\n",
    "    for timeSlot in timeSlots:\n",
    "        for courseAssignment in courseAssignments:\n",
    "            domain_possibilities.append(courseAssignment + \" \" + \n",
    "                                        timeSlot + \" \" + classroom)\n",
    "domains = {}\n",
    "for variable in variables:\n",
    "    domains[variable] = domain_possibilities\n",
    "    \n",
    "neighbors = parse_neighbors('''cs0.001: vanderlinden nh253 mwf9''', variables)\n",
    "for type in [courses, domain_possibilities]:\n",
    "    for A in type:\n",
    "        for B in type:\n",
    "            if A != B:\n",
    "                if B not in neighbors[A]:\n",
    "                    neighbors[A].append(B)\n",
    "                if A not in neighbors[B]:\n",
    "                    neighbors[B].append(A)\n",
    "                    \n",
    "                    \n",
    "def scheduler_constraint(A, a, B, b):\n",
    "    courseAssigned1 = a.split()[0]\n",
    "    timeAssigned1 = a.split()[1]\n",
    "    classroomAssigned1 = a.split()[2]\n",
    "    \n",
    "    courseAssigned2 = b.split()[0]\n",
    "    timeAssigned2 = b.split()[1]\n",
    "    classroomAssigned2 = b.split()[2]\n",
    "    \n",
    "    if (courseAssigned1 == courseAssigned2 and \n",
    "        timeAssigned1 == timeAssigned2): return False\n",
    "    \n",
    "    if (classroomAssigned1 == classroomAssigned2 and\n",
    "        timeAssigned1 == timeAssigned2): return False\n",
    "    \n",
    "    return True\n",
    "        \n",
    "        \n",
    "problem = CSP(variables, domains, neighbors, scheduler_constraint)\n",
    "solution = min_conflicts(problem)\n",
    "print(solution)"
   ]
  },
  {
   "cell_type": "code",
   "execution_count": null,
   "metadata": {},
   "outputs": [],
   "source": []
  }
 ],
 "metadata": {
  "kernelspec": {
   "display_name": "Python 3",
   "language": "python",
   "name": "python3"
  },
  "language_info": {
   "codemirror_mode": {
    "name": "ipython",
    "version": 3
   },
   "file_extension": ".py",
   "mimetype": "text/x-python",
   "name": "python",
   "nbconvert_exporter": "python",
   "pygments_lexer": "ipython3",
   "version": "3.5.2"
  }
 },
 "nbformat": 4,
 "nbformat_minor": 1
}
